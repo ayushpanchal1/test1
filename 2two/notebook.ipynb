{
  "nbformat": 4,
  "nbformat_minor": 0,
  "metadata": {
    "colab": {
      "provenance": []
    },
    "kernelspec": {
      "name": "python3",
      "display_name": "Python 3"
    },
    "language_info": {
      "name": "python"
    }
  },
  "cells": [
    {
      "cell_type": "code",
      "execution_count": null,
      "metadata": {
        "colab": {
          "base_uri": "https://localhost:8080/"
        },
        "id": "C6zHEIqRKAkS",
        "outputId": "1c8d917b-0805-41c0-bdcc-deae8401cedf"
      },
      "outputs": [
        {
          "output_type": "stream",
          "name": "stdout",
          "text": [
            "Requirement already satisfied: nltk in /usr/local/lib/python3.10/dist-packages (3.9.1)\n",
            "Requirement already satisfied: click in /usr/local/lib/python3.10/dist-packages (from nltk) (8.1.8)\n",
            "Requirement already satisfied: joblib in /usr/local/lib/python3.10/dist-packages (from nltk) (1.4.2)\n",
            "Requirement already satisfied: regex>=2021.8.3 in /usr/local/lib/python3.10/dist-packages (from nltk) (2024.11.6)\n",
            "Requirement already satisfied: tqdm in /usr/local/lib/python3.10/dist-packages (from nltk) (4.67.1)\n",
            "Requirement already satisfied: spacy in /usr/local/lib/python3.10/dist-packages (3.7.5)\n",
            "Requirement already satisfied: spacy-legacy<3.1.0,>=3.0.11 in /usr/local/lib/python3.10/dist-packages (from spacy) (3.0.12)\n",
            "Requirement already satisfied: spacy-loggers<2.0.0,>=1.0.0 in /usr/local/lib/python3.10/dist-packages (from spacy) (1.0.5)\n",
            "Requirement already satisfied: murmurhash<1.1.0,>=0.28.0 in /usr/local/lib/python3.10/dist-packages (from spacy) (1.0.11)\n",
            "Requirement already satisfied: cymem<2.1.0,>=2.0.2 in /usr/local/lib/python3.10/dist-packages (from spacy) (2.0.10)\n",
            "Requirement already satisfied: preshed<3.1.0,>=3.0.2 in /usr/local/lib/python3.10/dist-packages (from spacy) (3.0.9)\n",
            "Requirement already satisfied: thinc<8.3.0,>=8.2.2 in /usr/local/lib/python3.10/dist-packages (from spacy) (8.2.5)\n",
            "Requirement already satisfied: wasabi<1.2.0,>=0.9.1 in /usr/local/lib/python3.10/dist-packages (from spacy) (1.1.3)\n",
            "Requirement already satisfied: srsly<3.0.0,>=2.4.3 in /usr/local/lib/python3.10/dist-packages (from spacy) (2.5.0)\n",
            "Requirement already satisfied: catalogue<2.1.0,>=2.0.6 in /usr/local/lib/python3.10/dist-packages (from spacy) (2.0.10)\n",
            "Requirement already satisfied: weasel<0.5.0,>=0.1.0 in /usr/local/lib/python3.10/dist-packages (from spacy) (0.4.1)\n",
            "Requirement already satisfied: typer<1.0.0,>=0.3.0 in /usr/local/lib/python3.10/dist-packages (from spacy) (0.15.1)\n",
            "Requirement already satisfied: tqdm<5.0.0,>=4.38.0 in /usr/local/lib/python3.10/dist-packages (from spacy) (4.67.1)\n",
            "Requirement already satisfied: requests<3.0.0,>=2.13.0 in /usr/local/lib/python3.10/dist-packages (from spacy) (2.32.3)\n",
            "Requirement already satisfied: pydantic!=1.8,!=1.8.1,<3.0.0,>=1.7.4 in /usr/local/lib/python3.10/dist-packages (from spacy) (2.10.4)\n",
            "Requirement already satisfied: jinja2 in /usr/local/lib/python3.10/dist-packages (from spacy) (3.1.5)\n",
            "Requirement already satisfied: setuptools in /usr/local/lib/python3.10/dist-packages (from spacy) (75.1.0)\n",
            "Requirement already satisfied: packaging>=20.0 in /usr/local/lib/python3.10/dist-packages (from spacy) (24.2)\n",
            "Requirement already satisfied: langcodes<4.0.0,>=3.2.0 in /usr/local/lib/python3.10/dist-packages (from spacy) (3.5.0)\n",
            "Requirement already satisfied: numpy>=1.19.0 in /usr/local/lib/python3.10/dist-packages (from spacy) (1.26.4)\n",
            "Requirement already satisfied: language-data>=1.2 in /usr/local/lib/python3.10/dist-packages (from langcodes<4.0.0,>=3.2.0->spacy) (1.3.0)\n",
            "Requirement already satisfied: annotated-types>=0.6.0 in /usr/local/lib/python3.10/dist-packages (from pydantic!=1.8,!=1.8.1,<3.0.0,>=1.7.4->spacy) (0.7.0)\n",
            "Requirement already satisfied: pydantic-core==2.27.2 in /usr/local/lib/python3.10/dist-packages (from pydantic!=1.8,!=1.8.1,<3.0.0,>=1.7.4->spacy) (2.27.2)\n",
            "Requirement already satisfied: typing-extensions>=4.12.2 in /usr/local/lib/python3.10/dist-packages (from pydantic!=1.8,!=1.8.1,<3.0.0,>=1.7.4->spacy) (4.12.2)\n",
            "Requirement already satisfied: charset-normalizer<4,>=2 in /usr/local/lib/python3.10/dist-packages (from requests<3.0.0,>=2.13.0->spacy) (3.4.1)\n",
            "Requirement already satisfied: idna<4,>=2.5 in /usr/local/lib/python3.10/dist-packages (from requests<3.0.0,>=2.13.0->spacy) (3.10)\n",
            "Requirement already satisfied: urllib3<3,>=1.21.1 in /usr/local/lib/python3.10/dist-packages (from requests<3.0.0,>=2.13.0->spacy) (2.3.0)\n",
            "Requirement already satisfied: certifi>=2017.4.17 in /usr/local/lib/python3.10/dist-packages (from requests<3.0.0,>=2.13.0->spacy) (2024.12.14)\n",
            "Requirement already satisfied: blis<0.8.0,>=0.7.8 in /usr/local/lib/python3.10/dist-packages (from thinc<8.3.0,>=8.2.2->spacy) (0.7.11)\n",
            "Requirement already satisfied: confection<1.0.0,>=0.0.1 in /usr/local/lib/python3.10/dist-packages (from thinc<8.3.0,>=8.2.2->spacy) (0.1.5)\n",
            "Requirement already satisfied: click>=8.0.0 in /usr/local/lib/python3.10/dist-packages (from typer<1.0.0,>=0.3.0->spacy) (8.1.8)\n",
            "Requirement already satisfied: shellingham>=1.3.0 in /usr/local/lib/python3.10/dist-packages (from typer<1.0.0,>=0.3.0->spacy) (1.5.4)\n",
            "Requirement already satisfied: rich>=10.11.0 in /usr/local/lib/python3.10/dist-packages (from typer<1.0.0,>=0.3.0->spacy) (13.9.4)\n",
            "Requirement already satisfied: cloudpathlib<1.0.0,>=0.7.0 in /usr/local/lib/python3.10/dist-packages (from weasel<0.5.0,>=0.1.0->spacy) (0.20.0)\n",
            "Requirement already satisfied: smart-open<8.0.0,>=5.2.1 in /usr/local/lib/python3.10/dist-packages (from weasel<0.5.0,>=0.1.0->spacy) (7.1.0)\n",
            "Requirement already satisfied: MarkupSafe>=2.0 in /usr/local/lib/python3.10/dist-packages (from jinja2->spacy) (3.0.2)\n",
            "Requirement already satisfied: marisa-trie>=1.1.0 in /usr/local/lib/python3.10/dist-packages (from language-data>=1.2->langcodes<4.0.0,>=3.2.0->spacy) (1.2.1)\n",
            "Requirement already satisfied: markdown-it-py>=2.2.0 in /usr/local/lib/python3.10/dist-packages (from rich>=10.11.0->typer<1.0.0,>=0.3.0->spacy) (3.0.0)\n",
            "Requirement already satisfied: pygments<3.0.0,>=2.13.0 in /usr/local/lib/python3.10/dist-packages (from rich>=10.11.0->typer<1.0.0,>=0.3.0->spacy) (2.18.0)\n",
            "Requirement already satisfied: wrapt in /usr/local/lib/python3.10/dist-packages (from smart-open<8.0.0,>=5.2.1->weasel<0.5.0,>=0.1.0->spacy) (1.17.0)\n",
            "Requirement already satisfied: mdurl~=0.1 in /usr/local/lib/python3.10/dist-packages (from markdown-it-py>=2.2.0->rich>=10.11.0->typer<1.0.0,>=0.3.0->spacy) (0.1.2)\n",
            "\u001b[31mERROR: Could not find a version that satisfies the requirement wordtovec (from versions: none)\u001b[0m\u001b[31m\n",
            "\u001b[0m\u001b[31mERROR: No matching distribution found for wordtovec\u001b[0m\u001b[31m\n",
            "\u001b[0m"
          ]
        }
      ],
      "source": [
        "!pip install nltk\n",
        "!pip install spacy\n",
        "!pip install wordtovec"
      ]
    },
    {
      "cell_type": "code",
      "source": [
        "!pip install docx"
      ],
      "metadata": {
        "colab": {
          "base_uri": "https://localhost:8080/"
        },
        "id": "9gQ8hkNEO4bK",
        "outputId": "25d8af68-7387-4b1b-945d-a092dd9f5e4e"
      },
      "execution_count": null,
      "outputs": [
        {
          "output_type": "stream",
          "name": "stdout",
          "text": [
            "Collecting docx\n",
            "  Downloading docx-0.2.4.tar.gz (54 kB)\n",
            "\u001b[?25l     \u001b[90m━━━━━━━━━━━━━━━━━━━━━━━━━━━━━━━━━━━━━━━━\u001b[0m \u001b[32m0.0/54.9 kB\u001b[0m \u001b[31m?\u001b[0m eta \u001b[36m-:--:--\u001b[0m\r\u001b[2K     \u001b[91m━━━━━━━━━━━━━━━━━━━━━━━━━━━━━━━━━━━━━\u001b[0m\u001b[90m╺\u001b[0m\u001b[90m━━\u001b[0m \u001b[32m51.2/54.9 kB\u001b[0m \u001b[31m57.1 MB/s\u001b[0m eta \u001b[36m0:00:01\u001b[0m\r\u001b[2K     \u001b[90m━━━━━━━━━━━━━━━━━━━━━━━━━━━━━━━━━━━━━━━━\u001b[0m \u001b[32m54.9/54.9 kB\u001b[0m \u001b[31m1.4 MB/s\u001b[0m eta \u001b[36m0:00:00\u001b[0m\n",
            "\u001b[?25h  Preparing metadata (setup.py) ... \u001b[?25l\u001b[?25hdone\n",
            "Requirement already satisfied: lxml in /usr/local/lib/python3.10/dist-packages (from docx) (5.3.0)\n",
            "Requirement already satisfied: Pillow>=2.0 in /usr/local/lib/python3.10/dist-packages (from docx) (11.1.0)\n",
            "Building wheels for collected packages: docx\n",
            "  Building wheel for docx (setup.py) ... \u001b[?25l\u001b[?25hdone\n",
            "  Created wheel for docx: filename=docx-0.2.4-py3-none-any.whl size=53892 sha256=696f4425c8b57d6df0c22a05731d7f76f1a38cc4de5723228f0b10a87a2812df\n",
            "  Stored in directory: /root/.cache/pip/wheels/81/f5/1d/e09ba2c1907a43a4146d1189ae4733ca1a3bfe27ee39507767\n",
            "Successfully built docx\n",
            "Installing collected packages: docx\n",
            "Successfully installed docx-0.2.4\n"
          ]
        }
      ]
    },
    {
      "cell_type": "code",
      "source": [
        "!pip install python-docx --upgrade\n"
      ],
      "metadata": {
        "colab": {
          "base_uri": "https://localhost:8080/"
        },
        "id": "PJwbOgozQBxw",
        "outputId": "2495eb70-4c97-419a-e660-34ab743be9cc"
      },
      "execution_count": null,
      "outputs": [
        {
          "output_type": "stream",
          "name": "stdout",
          "text": [
            "Collecting python-docx\n",
            "  Downloading python_docx-1.1.2-py3-none-any.whl.metadata (2.0 kB)\n",
            "Requirement already satisfied: lxml>=3.1.0 in /usr/local/lib/python3.10/dist-packages (from python-docx) (5.3.0)\n",
            "Requirement already satisfied: typing-extensions>=4.9.0 in /usr/local/lib/python3.10/dist-packages (from python-docx) (4.12.2)\n",
            "Downloading python_docx-1.1.2-py3-none-any.whl (244 kB)\n",
            "\u001b[?25l   \u001b[90m━━━━━━━━━━━━━━━━━━━━━━━━━━━━━━━━━━━━━━━━\u001b[0m \u001b[32m0.0/244.3 kB\u001b[0m \u001b[31m?\u001b[0m eta \u001b[36m-:--:--\u001b[0m\r\u001b[2K   \u001b[91m━━━━━━━━━━━━━━━━━━━━━━━━━━━━━━━━━━━━\u001b[0m\u001b[91m╸\u001b[0m\u001b[90m━━━\u001b[0m \u001b[32m225.3/244.3 kB\u001b[0m \u001b[31m7.1 MB/s\u001b[0m eta \u001b[36m0:00:01\u001b[0m\r\u001b[2K   \u001b[90m━━━━━━━━━━━━━━━━━━━━━━━━━━━━━━━━━━━━━━━━\u001b[0m \u001b[32m244.3/244.3 kB\u001b[0m \u001b[31m5.2 MB/s\u001b[0m eta \u001b[36m0:00:00\u001b[0m\n",
            "\u001b[?25hInstalling collected packages: python-docx\n",
            "Successfully installed python-docx-1.1.2\n"
          ]
        }
      ]
    },
    {
      "cell_type": "code",
      "source": [
        "\n",
        "import nltk\n",
        "from nltk.tokenize import word_tokenize, sent_tokenize\n",
        "from nltk.corpus import stopwords\n",
        "import string\n",
        "import spacy\n",
        "from gensim.models import Word2Vec\n",
        "from docx import Document\n",
        "import pandas as pd  # For displaying in tabular format\n",
        "\n",
        "# Ensure necessary resources are downloaded\n",
        "nltk.download('punkt')\n",
        "nltk.download('stopwords')\n",
        "nltk.download('punkt_tab')\n",
        "\n",
        "# Function to extract text from a DOCX file\n",
        "def extract_text_from_docx(docx_file):\n",
        "    doc = Document(docx_file)\n",
        "    text = ''\n",
        "    for paragraph in doc.paragraphs:\n",
        "        text += paragraph.text + '\\n'\n",
        "    return text\n",
        "\n",
        "# Clean and preprocess the text\n",
        "def preprocess_text(text):\n",
        "    # Tokenize into words\n",
        "    words = word_tokenize(text)\n",
        "\n",
        "    # Lowercase and remove stopwords and punctuation\n",
        "    stop_words = set(stopwords.words('english'))\n",
        "    cleaned_words = [\n",
        "        word.lower() for word in words\n",
        "        if word.lower() not in stop_words and word not in string.punctuation\n",
        "    ]\n",
        "    return cleaned_words\n",
        "\n",
        "# Main function to process the resume\n",
        "def process_resume(resume_file):\n",
        "    # Step 1: Extract text from the resume\n",
        "    resume_text = extract_text_from_docx(resume_file)\n",
        "\n",
        "    # Step 2: Tokenization using NLTK\n",
        "    sentences = sent_tokenize(resume_text)\n",
        "    words = word_tokenize(resume_text)\n",
        "    print(\"Tokenized Sentences:\", sentences)\n",
        "    print(\"Tokenized Words:\", words)\n",
        "\n",
        "    # Step 3: Named Entity Recognition using spaCy\n",
        "    nlp = spacy.load(\"en_core_web_sm\")\n",
        "    doc = nlp(resume_text)\n",
        "\n",
        "    tokens = [token.text for token in doc]\n",
        "    entities = [(ent.text, ent.label_) for ent in doc.ents]\n",
        "\n",
        "    # Step 4: Display Named Entities in a Column\n",
        "    if entities:\n",
        "        # Create a DataFrame to display the entities in columns\n",
        "        df_entities = pd.DataFrame(entities, columns=[\"Entity\", \"Label\"])\n",
        "        print(df_entities)\n",
        "    else:\n",
        "        print(\"No named entities found.\")\n",
        "\n",
        "    # Step 5: Preprocess text for Word2Vec\n",
        "    cleaned_words = preprocess_text(resume_text)\n",
        "    print(\"Cleaned Words:\", cleaned_words)\n",
        "\n",
        "    # Prepare sentences for Word2Vec\n",
        "    tokenized_sentences = [word_tokenize(sentence) for sentence in sentences]\n",
        "\n",
        "    # Step 6: Train Word2Vec model\n",
        "    model = Word2Vec(sentences=tokenized_sentences, vector_size=100, window=5, min_count=1, workers=4)\n",
        "\n",
        "    # Example: Get vector for a specific word\n",
        "    try:\n",
        "        word_vector = model.wv['experience']  # Replace 'experience' with any word from the text\n",
        "        print(\"Vector for 'experience':\", word_vector)\n",
        "    except KeyError:\n",
        "        print(\"Word 'experience' not found in the vocabulary.\")\n",
        "\n",
        "    return {\n",
        "        \"sentences\": sentences,\n",
        "        \"tokens\": tokens,\n",
        "        \"entities\": entities,\n",
        "        \"word_vectors\": model.wv,\n",
        "    }\n",
        "\n",
        "# Path to the resume file (DOCX format)\n",
        "resume_file_path = '/content/Profile.docx'  # Replace with your resume file path\n",
        "\n",
        "# Process the resume\n",
        "results = process_resume(resume_file_path)\n"
      ],
      "metadata": {
        "colab": {
          "base_uri": "https://localhost:8080/"
        },
        "id": "aBIZYDRMRqxC",
        "outputId": "97dd07c5-e899-402f-964f-d71eae912e5d"
      },
      "execution_count": null,
      "outputs": [
        {
          "output_type": "stream",
          "name": "stderr",
          "text": [
            "[nltk_data] Downloading package punkt to /root/nltk_data...\n",
            "[nltk_data]   Package punkt is already up-to-date!\n",
            "[nltk_data] Downloading package stopwords to /root/nltk_data...\n",
            "[nltk_data]   Package stopwords is already up-to-date!\n",
            "[nltk_data] Downloading package punkt_tab to /root/nltk_data...\n",
            "[nltk_data]   Unzipping tokenizers/punkt_tab.zip.\n"
          ]
        },
        {
          "output_type": "stream",
          "name": "stdout",
          "text": [
            "Tokenized Sentences: ['\\n\\n\\nContact\\nkartikeym1@gmail.com\\nwww.linkedin.com/in/kartikey- mishra-ab6aa52b7 (LinkedIn)\\n\\nTop Skills\\nPython (Programming Language) Next.js\\nTailwind CSS\\nKartikey Mishra\\nAttended K. J. Somaiya Institute of Technology Mumbai, Maharashtra, India\\n\\nSummary\\nI am a Full-Stack Developer and a passionate Machine Learning enthusiast.', 'Throughout my college studies, I have been actively involved in diverse projects, honing my skills in HTML, CSS, React, Python, Next.js, Django, SQL, and MongoDB.', 'My experience also includes training and building models such as LSTM, Random Forest Regression, and Artificial Neural Networks.', 'I am committed to continuous learning and growth, always eager to explore new technologies and expand my expertise.', 'Experience\\nIndian Society for Technical Education\\nFull-stack Developer\\nMarch 2024 - Present (11 months)\\nFull Stack Developer Intern | Indian Society for Technical Education (ISTE) • View March 2024 - Present\\nUnder The Guidance Of Dr. Radhika Kotecha [ Head Of Department ] Collaborated on a project as a full stack developer for ISTE.', 'Implemented the backend using MongoDB, Node.js, and Express.js.', 'Created membership features for Senior Members, including payment and membership management.', 'TATA Power\\nSoftware Developer\\nJanuary 2024 - Present (1 year 1 month) Trombay, Maharashtra, India\\nFull Stack Web Developer & Machine Learning Intern | Tata Power Jan 2024 - Present\\nUnder the Guidance of Dr.Radhika Kotecha [Head of Department]\\nDeveloped a Short-term Load Forecasting System to predict electricity demand with an accuracy of 95% to 97.5%.', 'Created a responsive frontend using ReactJS, integrated with Azure AD for authentication, and styled with Material-UI.', 'Built a robust backend with FastAPI and MongoDB to handle data processing and storage.', 'Explored and implemented various Machine Learning algorithms, training models including LSTM and Random Forest Regression (RFR) to enhance forecasting capabilities.', 'K. J. Somaiya Institute of Technology\\nFull-stack Developer\\nDecember 2023 - May 2024 (6 months) Mumbai, Maharashtra, India\\nWe Have Worked under the guidance of Prof. Harsh Bohr as an Internship Project During Winter Training\\nWe have Developed the Internship Management Portal using ReactJS and React-Bootstrap for the frontend and MongoDB, Node.js, and Express.js for the backend.', 'Key features include:\\n\\nUpdate: Students can update their profiles with completed internships, accessible by teachers.', 'Requests: Students can submit internship participation requests for teacher approval or decline with remarks.', 'Download: Students can download a PDF proof of approval upon receiving all necessary teacher approvals.', 'Announcements: Teachers can post internship and other opportunity announcements.', 'Manage: Teachers can quickly search and view student information in the database.', 'Education\\nK. J. Somaiya Institute of Technology\\nBachelor of Technology - BTech, Information Technology · (July 2021 - July 2025)']\n",
            "Tokenized Words: ['Contact', 'kartikeym1', '@', 'gmail.com', 'www.linkedin.com/in/kartikey-', 'mishra-ab6aa52b7', '(', 'LinkedIn', ')', 'Top', 'Skills', 'Python', '(', 'Programming', 'Language', ')', 'Next.js', 'Tailwind', 'CSS', 'Kartikey', 'Mishra', 'Attended', 'K.', 'J.', 'Somaiya', 'Institute', 'of', 'Technology', 'Mumbai', ',', 'Maharashtra', ',', 'India', 'Summary', 'I', 'am', 'a', 'Full-Stack', 'Developer', 'and', 'a', 'passionate', 'Machine', 'Learning', 'enthusiast', '.', 'Throughout', 'my', 'college', 'studies', ',', 'I', 'have', 'been', 'actively', 'involved', 'in', 'diverse', 'projects', ',', 'honing', 'my', 'skills', 'in', 'HTML', ',', 'CSS', ',', 'React', ',', 'Python', ',', 'Next.js', ',', 'Django', ',', 'SQL', ',', 'and', 'MongoDB', '.', 'My', 'experience', 'also', 'includes', 'training', 'and', 'building', 'models', 'such', 'as', 'LSTM', ',', 'Random', 'Forest', 'Regression', ',', 'and', 'Artificial', 'Neural', 'Networks', '.', 'I', 'am', 'committed', 'to', 'continuous', 'learning', 'and', 'growth', ',', 'always', 'eager', 'to', 'explore', 'new', 'technologies', 'and', 'expand', 'my', 'expertise', '.', 'Experience', 'Indian', 'Society', 'for', 'Technical', 'Education', 'Full-stack', 'Developer', 'March', '2024', '-', 'Present', '(', '11', 'months', ')', 'Full', 'Stack', 'Developer', 'Intern', '|', 'Indian', 'Society', 'for', 'Technical', 'Education', '(', 'ISTE', ')', '•', 'View', 'March', '2024', '-', 'Present', 'Under', 'The', 'Guidance', 'Of', 'Dr.', 'Radhika', 'Kotecha', '[', 'Head', 'Of', 'Department', ']', 'Collaborated', 'on', 'a', 'project', 'as', 'a', 'full', 'stack', 'developer', 'for', 'ISTE', '.', 'Implemented', 'the', 'backend', 'using', 'MongoDB', ',', 'Node.js', ',', 'and', 'Express.js', '.', 'Created', 'membership', 'features', 'for', 'Senior', 'Members', ',', 'including', 'payment', 'and', 'membership', 'management', '.', 'TATA', 'Power', 'Software', 'Developer', 'January', '2024', '-', 'Present', '(', '1', 'year', '1', 'month', ')', 'Trombay', ',', 'Maharashtra', ',', 'India', 'Full', 'Stack', 'Web', 'Developer', '&', 'Machine', 'Learning', 'Intern', '|', 'Tata', 'Power', 'Jan', '2024', '-', 'Present', 'Under', 'the', 'Guidance', 'of', 'Dr.Radhika', 'Kotecha', '[', 'Head', 'of', 'Department', ']', 'Developed', 'a', 'Short-term', 'Load', 'Forecasting', 'System', 'to', 'predict', 'electricity', 'demand', 'with', 'an', 'accuracy', 'of', '95', '%', 'to', '97.5', '%', '.', 'Created', 'a', 'responsive', 'frontend', 'using', 'ReactJS', ',', 'integrated', 'with', 'Azure', 'AD', 'for', 'authentication', ',', 'and', 'styled', 'with', 'Material-UI', '.', 'Built', 'a', 'robust', 'backend', 'with', 'FastAPI', 'and', 'MongoDB', 'to', 'handle', 'data', 'processing', 'and', 'storage', '.', 'Explored', 'and', 'implemented', 'various', 'Machine', 'Learning', 'algorithms', ',', 'training', 'models', 'including', 'LSTM', 'and', 'Random', 'Forest', 'Regression', '(', 'RFR', ')', 'to', 'enhance', 'forecasting', 'capabilities', '.', 'K.', 'J.', 'Somaiya', 'Institute', 'of', 'Technology', 'Full-stack', 'Developer', 'December', '2023', '-', 'May', '2024', '(', '6', 'months', ')', 'Mumbai', ',', 'Maharashtra', ',', 'India', 'We', 'Have', 'Worked', 'under', 'the', 'guidance', 'of', 'Prof.', 'Harsh', 'Bohr', 'as', 'an', 'Internship', 'Project', 'During', 'Winter', 'Training', 'We', 'have', 'Developed', 'the', 'Internship', 'Management', 'Portal', 'using', 'ReactJS', 'and', 'React-Bootstrap', 'for', 'the', 'frontend', 'and', 'MongoDB', ',', 'Node.js', ',', 'and', 'Express.js', 'for', 'the', 'backend', '.', 'Key', 'features', 'include', ':', 'Update', ':', 'Students', 'can', 'update', 'their', 'profiles', 'with', 'completed', 'internships', ',', 'accessible', 'by', 'teachers', '.', 'Requests', ':', 'Students', 'can', 'submit', 'internship', 'participation', 'requests', 'for', 'teacher', 'approval', 'or', 'decline', 'with', 'remarks', '.', 'Download', ':', 'Students', 'can', 'download', 'a', 'PDF', 'proof', 'of', 'approval', 'upon', 'receiving', 'all', 'necessary', 'teacher', 'approvals', '.', 'Announcements', ':', 'Teachers', 'can', 'post', 'internship', 'and', 'other', 'opportunity', 'announcements', '.', 'Manage', ':', 'Teachers', 'can', 'quickly', 'search', 'and', 'view', 'student', 'information', 'in', 'the', 'database', '.', 'Education', 'K.', 'J.', 'Somaiya', 'Institute', 'of', 'Technology', 'Bachelor', 'of', 'Technology', '-', 'BTech', ',', 'Information', 'Technology', '·', '(', 'July', '2021', '-', 'July', '2025', ')']\n",
            "                                            Entity        Label\n",
            "0   www.linkedin.com/in/kartikey- mishra-ab6aa52b7       PERSON\n",
            "1                                         LinkedIn          GPE\n",
            "2                                     Tailwind CSS          FAC\n",
            "3                                  Kartikey Mishra       PERSON\n",
            "4                                      Maharashtra          GPE\n",
            "5                                 Machine Learning       PERSON\n",
            "6                                             HTML          ORG\n",
            "7                                              CSS          ORG\n",
            "8                                           Django          GPE\n",
            "9                                              SQL          ORG\n",
            "10                        Random Forest Regression          ORG\n",
            "11                      Artificial Neural Networks          ORG\n",
            "12          Indian Society for Technical Education          ORG\n",
            "13                                    March 2024 -         DATE\n",
            "14                                       11 months         DATE\n",
            "15          Indian Society for Technical Education          ORG\n",
            "16                                            ISTE          ORG\n",
            "17                            March 2024 - Present         DATE\n",
            "18                             The Guidance Of Dr.  WORK_OF_ART\n",
            "19                                 Radhika Kotecha       PERSON\n",
            "20                                            ISTE          ORG\n",
            "21                                         Node.js          ORG\n",
            "22                                      Express.js       PERSON\n",
            "23                                         Created          ORG\n",
            "24                  TATA Power\\nSoftware Developer          ORG\n",
            "25                          January 2024 - Present         DATE\n",
            "26                                  1 year 1 month         DATE\n",
            "27                                         Trombay       PERSON\n",
            "28                                     Maharashtra          GPE\n",
            "29                                      Tata Power          ORG\n",
            "30                              Jan 2024 - Present         DATE\n",
            "31                                 Radhika Kotecha       PERSON\n",
            "32                         Load Forecasting System          ORG\n",
            "33                                    95% to 97.5%      PERCENT\n",
            "34                                     Material-UI          ORG\n",
            "35                                Machine Learning          ORG\n",
            "36                        Random Forest Regression          ORG\n",
            "37                        December 2023 - May 2024         DATE\n",
            "38                                        6 months         DATE\n",
            "39                                          Mumbai          GPE\n",
            "40                                     Maharashtra          GPE\n",
            "41                                           India          GPE\n",
            "42                                      Harsh Bohr       PERSON\n",
            "43                                 Winter Training       PERSON\n",
            "44      Developed the Internship Management Portal          ORG\n",
            "45                                 React-Bootstrap          ORG\n",
            "46                                         Node.js          ORG\n",
            "47                                      Express.js       PERSON\n",
            "48                                       Download:  WORK_OF_ART\n",
            "49                                             PDF          ORG\n",
            "50                          Information Technology          ORG\n",
            "51                           July 2021 - July 2025         DATE\n",
            "Cleaned Words: ['contact', 'kartikeym1', 'gmail.com', 'www.linkedin.com/in/kartikey-', 'mishra-ab6aa52b7', 'linkedin', 'top', 'skills', 'python', 'programming', 'language', 'next.js', 'tailwind', 'css', 'kartikey', 'mishra', 'attended', 'k.', 'j.', 'somaiya', 'institute', 'technology', 'mumbai', 'maharashtra', 'india', 'summary', 'full-stack', 'developer', 'passionate', 'machine', 'learning', 'enthusiast', 'throughout', 'college', 'studies', 'actively', 'involved', 'diverse', 'projects', 'honing', 'skills', 'html', 'css', 'react', 'python', 'next.js', 'django', 'sql', 'mongodb', 'experience', 'also', 'includes', 'training', 'building', 'models', 'lstm', 'random', 'forest', 'regression', 'artificial', 'neural', 'networks', 'committed', 'continuous', 'learning', 'growth', 'always', 'eager', 'explore', 'new', 'technologies', 'expand', 'expertise', 'experience', 'indian', 'society', 'technical', 'education', 'full-stack', 'developer', 'march', '2024', 'present', '11', 'months', 'full', 'stack', 'developer', 'intern', 'indian', 'society', 'technical', 'education', 'iste', '•', 'view', 'march', '2024', 'present', 'guidance', 'dr.', 'radhika', 'kotecha', 'head', 'department', 'collaborated', 'project', 'full', 'stack', 'developer', 'iste', 'implemented', 'backend', 'using', 'mongodb', 'node.js', 'express.js', 'created', 'membership', 'features', 'senior', 'members', 'including', 'payment', 'membership', 'management', 'tata', 'power', 'software', 'developer', 'january', '2024', 'present', '1', 'year', '1', 'month', 'trombay', 'maharashtra', 'india', 'full', 'stack', 'web', 'developer', 'machine', 'learning', 'intern', 'tata', 'power', 'jan', '2024', 'present', 'guidance', 'dr.radhika', 'kotecha', 'head', 'department', 'developed', 'short-term', 'load', 'forecasting', 'system', 'predict', 'electricity', 'demand', 'accuracy', '95', '97.5', 'created', 'responsive', 'frontend', 'using', 'reactjs', 'integrated', 'azure', 'ad', 'authentication', 'styled', 'material-ui', 'built', 'robust', 'backend', 'fastapi', 'mongodb', 'handle', 'data', 'processing', 'storage', 'explored', 'implemented', 'various', 'machine', 'learning', 'algorithms', 'training', 'models', 'including', 'lstm', 'random', 'forest', 'regression', 'rfr', 'enhance', 'forecasting', 'capabilities', 'k.', 'j.', 'somaiya', 'institute', 'technology', 'full-stack', 'developer', 'december', '2023', 'may', '2024', '6', 'months', 'mumbai', 'maharashtra', 'india', 'worked', 'guidance', 'prof.', 'harsh', 'bohr', 'internship', 'project', 'winter', 'training', 'developed', 'internship', 'management', 'portal', 'using', 'reactjs', 'react-bootstrap', 'frontend', 'mongodb', 'node.js', 'express.js', 'backend', 'key', 'features', 'include', 'update', 'students', 'update', 'profiles', 'completed', 'internships', 'accessible', 'teachers', 'requests', 'students', 'submit', 'internship', 'participation', 'requests', 'teacher', 'approval', 'decline', 'remarks', 'download', 'students', 'download', 'pdf', 'proof', 'approval', 'upon', 'receiving', 'necessary', 'teacher', 'approvals', 'announcements', 'teachers', 'post', 'internship', 'opportunity', 'announcements', 'manage', 'teachers', 'quickly', 'search', 'view', 'student', 'information', 'database', 'education', 'k.', 'j.', 'somaiya', 'institute', 'technology', 'bachelor', 'technology', 'btech', 'information', 'technology', '·', 'july', '2021', 'july', '2025']\n",
            "Vector for 'experience': [ 2.1535938e-03  1.8934183e-03 -9.2336945e-03  4.8466804e-03\n",
            " -1.0402661e-03 -1.2019251e-03 -3.7185408e-03  2.9139125e-03\n",
            " -2.0094124e-04  2.5175160e-03  1.1675244e-03 -4.6280981e-03\n",
            "  3.2066063e-03  5.0649708e-03 -9.9267149e-03 -5.3580757e-03\n",
            "  8.8161696e-03 -3.5112859e-03 -1.9076873e-03 -8.8441949e-03\n",
            "  8.8357180e-03  9.5666237e-03 -4.9207322e-03  8.0800466e-03\n",
            "  2.0695043e-04 -5.0221402e-03  6.0012378e-03  7.7874889e-03\n",
            "  1.0874253e-03  2.2931241e-03  8.1246328e-03  2.3719198e-03\n",
            " -9.6358471e-03  9.1659408e-03  5.0759311e-03 -3.1364390e-03\n",
            "  8.3075678e-03  9.9812087e-04  9.3206932e-04  9.5221754e-03\n",
            "  4.4674235e-03  1.5812340e-03  5.2469964e-03 -4.9953545e-03\n",
            "  8.7188929e-03  3.6577613e-03  8.6728698e-03  8.8011809e-03\n",
            "  5.8626067e-03  4.5445238e-04 -8.2857562e-03  2.5111516e-03\n",
            "  1.3581380e-03 -3.9595435e-03 -1.2222225e-03 -1.6228452e-03\n",
            "  3.0695894e-04  4.6213288e-03  5.5009220e-04  4.8789992e-03\n",
            " -2.0666481e-03  1.2534515e-03 -1.3261646e-03  1.8246708e-05\n",
            "  1.3533531e-03  3.4935779e-03 -8.4116589e-03  2.7439692e-03\n",
            "  8.5608959e-03 -1.3008061e-03 -7.3044240e-03 -9.5000966e-03\n",
            " -8.3209584e-03 -3.9597424e-03 -1.0181332e-03  6.1382474e-03\n",
            "  4.0175728e-03  4.3839649e-03 -4.7019278e-03 -4.7676465e-03\n",
            " -9.4426796e-03 -5.6628180e-03 -7.7720513e-03  8.8959364e-03\n",
            " -1.1232031e-03  3.1262946e-03  1.0665350e-03 -4.6897982e-03\n",
            "  9.0211416e-03 -9.9853212e-03 -7.7857161e-03 -2.9054598e-03\n",
            " -5.8527361e-04  2.2173182e-03  1.1824050e-03  7.5559402e-03\n",
            "  5.6170197e-03 -3.2016838e-03 -2.7495502e-03  2.0395706e-03]\n"
          ]
        }
      ]
    }
  ]
}