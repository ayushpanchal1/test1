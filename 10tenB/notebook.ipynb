{
  "nbformat": 4,
  "nbformat_minor": 0,
  "metadata": {
    "colab": {
      "provenance": []
    },
    "kernelspec": {
      "name": "python3",
      "display_name": "Python 3"
    },
    "language_info": {
      "name": "python"
    }
  },
  "cells": [
    {
      "cell_type": "code",
      "execution_count": null,
      "metadata": {
        "id": "14JMVWHaPaz6",
        "colab": {
          "base_uri": "https://localhost:8080/"
        },
        "outputId": "30422452-a4c7-4d42-8e97-7bb1c4a89a24"
      },
      "outputs": [
        {
          "output_type": "stream",
          "name": "stdout",
          "text": [
            "WordNet Features for 'happy':\n",
            "Synonyms: ['content', 'bright', 'halcyon', 'blessed', 'prosperous', 'glad', 'golden', 'blissful', 'euphoric', 'pleased', 'expansive', 'felicitous', 'joyful', 'fortunate', 'elysian', 'joyous', 'contented', 'riant', 'paradisal', 'paradisiacal', 'euphoriant', 'paradisiac', 'paradisaical', 'paradisaic', 'paradisial', 'well-chosen']\n",
            "Antonyms: ['sad', 'distressed', 'unhappy', 'dysphoric']\n",
            "\n",
            "WordNet Features for 'run':\n",
            "Synonyms: ['test', 'go', 'work', 'lead', 'play', 'drive', 'force', 'course', 'pass', 'range', 'function', 'race', 'lean', 'bleed', 'flow', 'move', 'discharge', 'trial', 'endure', 'campaign', 'guide', 'carry', 'extend', 'prevail', 'ram', 'tally', 'hunt', 'streak', 'persist', 'tend', 'ladder', 'melt', 'unravel', 'consort', 'ply', 'incline', 'lam', 'running', 'operate', 'ravel', 'bunk', 'rill', 'rivulet', 'runnel', 'outpouring', 'scarper', 'die hard', 'run away', 'break away', 'streamlet', 'footrace', 'running game', 'track down', 'black market', 'melt down', 'run for', 'hunt down', 'foot race', 'turn tail', 'running play']\n",
            "Antonyms: ['idle', 'malfunction', 'misfunction']\n",
            "\n",
            "WordNet Features for 'intelligent':\n",
            "Synonyms: ['smart', 'sound', 'keen', 'agile', 'sophisticated', 'sensible', 'alert', 'sharp', 'bright', 'apt', 'rational', 'quick', 'trenchant', 'healthy', 'nimble', 'clever', 'brilliant', 'ready', 'thinking', 'reasonable', 'reasoning', 'incisive', 'scintillating', 'prehensile', 'searching', 'brainy', 'levelheaded', 'well-informed', 'smart as a whip']\n",
            "Antonyms: ['stupid', 'unintelligent']\n",
            "\n"
          ]
        }
      ],
      "source": [
        "#10A\n",
        "\n",
        "import re\n",
        "\n",
        "import requests\n",
        "\n",
        "def get_wordnet_features(word):\n",
        "    base_url = \"https://api.datamuse.com/words\"\n",
        "    synonyms = []\n",
        "    antonyms = []\n",
        "\n",
        "    try:\n",
        "        syn_response = requests.get(base_url, params={\"rel_syn\": word})\n",
        "        if syn_response.status_code == 200:\n",
        "            synonyms = [item[\"word\"] for item in syn_response.json()]\n",
        "\n",
        "        ant_response = requests.get(base_url, params={\"rel_ant\": word})\n",
        "        if ant_response.status_code == 200:\n",
        "            antonyms = [item[\"word\"] for item in ant_response.json()]\n",
        "\n",
        "    except Exception as e:\n",
        "        print(f\"Error fetching data from Datamuse: {e}\")\n",
        "\n",
        "    return {\n",
        "        \"Synonyms\": synonyms,\n",
        "        \"Antonyms\": antonyms,\n",
        "    }\n",
        "\n",
        "# Example words to test\n",
        "words = [\"happy\", \"run\", \"intelligent\"]\n",
        "\n",
        "for word in words:\n",
        "    features = get_wordnet_features(word)\n",
        "    print(f\"WordNet Features for '{word}':\")\n",
        "    for key, value in features.items():\n",
        "        print(f\"{key}: {value}\")\n",
        "    print()\n"
      ]
    },
    {
      "cell_type": "code",
      "source": [
        "#10B\n",
        "\n",
        "def simple_lesk(context_sentence, ambiguous_word, sense_definitions):\n",
        "    context_words = set(context_sentence.lower().split())\n",
        "\n",
        "    best_sense = None\n",
        "    max_overlap = 0\n",
        "\n",
        "    for sense in sense_definitions:\n",
        "        signature = set(sense.lower().split())\n",
        "        overlap = len(context_words & signature)\n",
        "        if overlap > max_overlap:\n",
        "            max_overlap = overlap\n",
        "            best_sense = sense\n",
        "\n",
        "    return best_sense\n",
        "\n",
        "# --- Example usage ---\n",
        "examples = [\n",
        "    {\n",
        "        \"sentence\": \"The fisherman sat on the bank of the river\",\n",
        "        \"word\": \"bank\",\n",
        "        \"senses\": [\n",
        "            \"A financial institution that accepts deposits\",\n",
        "            \"Sloping land beside a body of water\"\n",
        "        ]\n",
        "    }\n",
        "]\n",
        "\n",
        "for example in examples:\n",
        "    sentence = example[\"sentence\"]\n",
        "    word = example[\"word\"]\n",
        "    senses = example[\"senses\"]\n",
        "    best_sense = simple_lesk(sentence, word, senses)\n",
        "    print(f\"Sentence: {sentence}\")\n",
        "    print(f\"Best sense of '{word}': {best_sense}\\n\")\n"
      ],
      "metadata": {
        "colab": {
          "base_uri": "https://localhost:8080/"
        },
        "id": "_Ufd3Abx0-JO",
        "outputId": "5d2c2ddb-d23a-439f-97e2-d410ed22abaa"
      },
      "execution_count": null,
      "outputs": [
        {
          "output_type": "stream",
          "name": "stdout",
          "text": [
            "Sentence: The fisherman sat on the bank of the river\n",
            "Best sense of 'bank': Sloping land beside a body of water\n",
            "\n"
          ]
        }
      ]
    }
  ]
}