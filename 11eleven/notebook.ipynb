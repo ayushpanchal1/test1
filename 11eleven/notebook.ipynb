{
  "nbformat": 4,
  "nbformat_minor": 0,
  "metadata": {
    "colab": {
      "provenance": []
    },
    "kernelspec": {
      "name": "python3",
      "display_name": "Python 3"
    },
    "language_info": {
      "name": "python"
    }
  },
  "cells": [
    {
      "cell_type": "code",
      "execution_count": null,
      "metadata": {
        "colab": {
          "base_uri": "https://localhost:8080/"
        },
        "id": "f4_5mHzkS6lE",
        "outputId": "0512d99f-2d20-4819-d2be-9ff014ca4bb8"
      },
      "outputs": [
        {
          "output_type": "stream",
          "name": "stdout",
          "text": [
            "POS Tags:\n",
            "[('The', 'DT'), ('quick', 'JJ'), ('brown', 'JJ'), ('fox', 'NN'), ('jumps', 'VBZ'), ('over', 'IN'), ('the', 'DT'), ('lazy', 'JJ'), ('dog', 'NN')]\n",
            "\n",
            "Chunked Output:\n",
            "(S\n",
            "  (NP The/DT quick/JJ brown/JJ fox/NN)\n",
            "  (VP jumps/VBZ over/IN)\n",
            "  (NP the/DT lazy/JJ dog/NN))\n"
          ]
        }
      ],
      "source": [
        "import re\n",
        "\n",
        "# Improved rule-based POS tagger\n",
        "\n",
        "def rule_based_pos_tag(tokens):\n",
        "    tagged = []\n",
        "    for word in tokens:\n",
        "        lw = word.lower()\n",
        "        if lw in {\"the\", \"a\", \"an\"}:\n",
        "            tag = \"DT\"\n",
        "        elif lw in {\"over\", \"under\", \"on\", \"in\", \"by\", \"with\"}:\n",
        "            tag = \"IN\"\n",
        "        elif lw in {\"is\", \"am\", \"are\", \"was\", \"were\", \"be\", \"being\", \"been\"}:\n",
        "            tag = \"VB\"\n",
        "        elif lw.endswith(\"ly\"):\n",
        "            tag = \"RB\"\n",
        "        elif lw.endswith(\"ing\"):\n",
        "            tag = \"VBG\"\n",
        "        elif lw.endswith(\"ed\"):\n",
        "            tag = \"VBD\"\n",
        "        elif lw.endswith(\"s\") and lw not in {\"is\", \"was\", \"this\"}:\n",
        "            tag = \"VBZ\"  # Assume verb for present tense ending in 's'\n",
        "        elif lw in {\"quick\", \"lazy\", \"brown\"}:\n",
        "            tag = \"JJ\"\n",
        "        else:\n",
        "            tag = \"NN\"\n",
        "        tagged.append((word, tag))\n",
        "    return tagged\n",
        "\n",
        "# Sample sentence\n",
        "tokens = \"The quick brown fox jumps over the lazy dog\".split()\n",
        "\n",
        "# Use custom POS tagger\n",
        "pos_tags = rule_based_pos_tag(tokens)\n",
        "print(\"POS Tags:\")\n",
        "print(pos_tags)\n",
        "\n",
        "# Define a simple chunk grammar\n",
        "chunk_grammar = \"\"\"\n",
        "    NP: {<DT>?<JJ>*<NN|NNP>}   # Noun Phrase\n",
        "    VP: {<VB.*><IN>?}          # Verb Phrase\n",
        "\"\"\"\n",
        "\n",
        "# Create a chunk parser using nltk's regex-based chunking\n",
        "from nltk.chunk import RegexpParser\n",
        "chunk_parser = RegexpParser(chunk_grammar)\n",
        "\n",
        "# Apply chunking\n",
        "chunked = chunk_parser.parse(pos_tags)\n",
        "print(\"\\nChunked Output:\")\n",
        "print(chunked)"
      ]
    }
  ]
}