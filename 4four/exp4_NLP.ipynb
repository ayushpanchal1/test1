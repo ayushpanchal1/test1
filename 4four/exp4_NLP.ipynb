{
  "nbformat": 4,
  "nbformat_minor": 0,
  "metadata": {
    "colab": {
      "provenance": []
    },
    "kernelspec": {
      "name": "python3",
      "display_name": "Python 3"
    },
    "language_info": {
      "name": "python"
    }
  },
  "cells": [
    {
      "cell_type": "code",
      "execution_count": null,
      "metadata": {
        "colab": {
          "base_uri": "https://localhost:8080/"
        },
        "id": "zAITepnvRPxC",
        "outputId": "0bb87295-f51d-4efa-b1c9-d5b2ca5bbaf0"
      },
      "outputs": [
        {
          "output_type": "stream",
          "name": "stdout",
          "text": [
            "Requirement already satisfied: word_forms in /usr/local/lib/python3.11/dist-packages (2.1.0)\n",
            "Requirement already satisfied: inflect==4.1.0 in /usr/local/lib/python3.11/dist-packages (from word_forms) (4.1.0)\n",
            "Requirement already satisfied: nltk>=3.3 in /usr/local/lib/python3.11/dist-packages (from word_forms) (3.9.1)\n",
            "Requirement already satisfied: click in /usr/local/lib/python3.11/dist-packages (from nltk>=3.3->word_forms) (8.1.8)\n",
            "Requirement already satisfied: joblib in /usr/local/lib/python3.11/dist-packages (from nltk>=3.3->word_forms) (1.4.2)\n",
            "Requirement already satisfied: regex>=2021.8.3 in /usr/local/lib/python3.11/dist-packages (from nltk>=3.3->word_forms) (2024.11.6)\n",
            "Requirement already satisfied: tqdm in /usr/local/lib/python3.11/dist-packages (from nltk>=3.3->word_forms) (4.67.1)\n"
          ]
        }
      ],
      "source": [
        "!pip install word_forms"
      ]
    },
    {
      "cell_type": "code",
      "source": [
        "from word_forms.word_forms import get_word_forms\n",
        "wfm = get_word_forms('doctor')\n",
        "print(wfm)\n"
      ],
      "metadata": {
        "colab": {
          "base_uri": "https://localhost:8080/"
        },
        "id": "7Dwt_RxMSnoY",
        "outputId": "3c0eb53c-5955-4e49-b5ac-9c4c586bca24"
      },
      "execution_count": null,
      "outputs": [
        {
          "output_type": "stream",
          "name": "stdout",
          "text": [
            "{'n': {'doctors', 'doctor', 'doctorate', 'doctorates'}, 'a': {'doctoral', 'doctorial'}, 'v': {'doctor', 'doctoring', 'doctors', 'doctored'}, 'r': set()}\n"
          ]
        }
      ]
    },
    {
      "cell_type": "code",
      "source": [
        "vf = get_word_forms('jump')\n",
        "print(\"Adjectives\",vf['a'])\n",
        "print(\"Nouns\",vf['n'])"
      ],
      "metadata": {
        "colab": {
          "base_uri": "https://localhost:8080/"
        },
        "id": "l3MvO0YzSrgP",
        "outputId": "ecf38b32-41f5-4b4e-8876-e24b53f93afb"
      },
      "execution_count": null,
      "outputs": [
        {
          "output_type": "stream",
          "name": "stdout",
          "text": [
            "Adjectives {'jumpy'}\n",
            "Nouns {'jump', 'jumpinesses', 'jumps', 'jumping', 'jumpiness', 'jumpings'}\n"
          ]
        }
      ]
    },
    {
      "cell_type": "markdown",
      "source": [
        "# Derivational"
      ],
      "metadata": {
        "id": "d42JgsQgfkQF"
      }
    },
    {
      "cell_type": "code",
      "source": [
        "def lematize(w):\n",
        "  af = [w for pf in get_word_forms(w).values() for w in pf]\n",
        "  af.sort()\n",
        "  af.sort(key=len)\n",
        "  try:\n",
        "    return af[0]\n",
        "  except IndexError:\n",
        "    raise ValueError(\"{} is not a real world\".format(w))\n",
        "lematize('mangling')"
      ],
      "metadata": {
        "colab": {
          "base_uri": "https://localhost:8080/",
          "height": 35
        },
        "id": "1yiUhMybTqfB",
        "outputId": "63fbb5cf-1658-4f95-9d5a-658bc7cff439"
      },
      "execution_count": null,
      "outputs": [
        {
          "output_type": "execute_result",
          "data": {
            "text/plain": [
              "'mangle'"
            ],
            "application/vnd.google.colaboratory.intrinsic+json": {
              "type": "string"
            }
          },
          "metadata": {},
          "execution_count": 41
        }
      ]
    },
    {
      "cell_type": "code",
      "source": [
        "\n",
        "\n",
        "from word_forms.word_forms import get_word_forms\n",
        "from nltk.stem import PorterStemmer\n",
        "\n",
        "\n",
        "\n",
        "\n",
        "wfm = get_word_forms('doctor')\n",
        "print(wfm)\n",
        "\n",
        "vf = get_word_forms('jump')\n",
        "print(\"Adjectives\",vf['a'])\n",
        "print(\"Nouns\",vf['n'])\n",
        "\n",
        "def lemmatize(w):\n",
        "  af = [w for pf in get_word_forms(w).values() for w in pf]\n",
        "  af.sort()\n",
        "  af.sort(key=len)\n",
        "  try:\n",
        "    return af[0]\n",
        "  except IndexError:\n",
        "    raise ValueError(\"{} is not a real word\".format(w))\n",
        "\n",
        "print(lematize('mangling'))\n",
        "\n",
        "\n",
        "def stem_word(word):\n",
        "\n",
        "  stemmer = PorterStemmer()\n",
        "  return stemmer.stem(word)\n",
        "\n",
        "word_to_stem = \"running\"\n",
        "stemmed_word = stem_word(word_to_stem)\n",
        "print(f\"The stemmed form of '{word_to_stem}' is '{stemmed_word}'\")\n",
        "\n"
      ],
      "metadata": {
        "colab": {
          "base_uri": "https://localhost:8080/"
        },
        "id": "m0982faIdjYO",
        "outputId": "0ec1c812-31e2-4c93-ab7a-1c2bcbfe8ff8"
      },
      "execution_count": null,
      "outputs": [
        {
          "output_type": "stream",
          "name": "stdout",
          "text": [
            "{'n': {'doctors', 'doctor', 'doctorate', 'doctorates'}, 'a': {'doctoral', 'doctorial'}, 'v': {'doctor', 'doctoring', 'doctors', 'doctored'}, 'r': set()}\n",
            "Adjectives {'jumpy'}\n",
            "Nouns {'jump', 'jumpinesses', 'jumps', 'jumping', 'jumpiness', 'jumpings'}\n",
            "mangle\n",
            "The stemmed form of 'running' is 'run'\n"
          ]
        }
      ]
    },
    {
      "cell_type": "markdown",
      "source": [
        "# **Inflational**\n"
      ],
      "metadata": {
        "id": "ptua-IvkiKAR"
      }
    },
    {
      "cell_type": "code",
      "source": [
        "\n",
        "\n",
        "from word_forms.word_forms import get_word_forms\n",
        "from nltk.stem import PorterStemmer, WordNetLemmatizer\n",
        "import nltk\n",
        "nltk.download('wordnet')\n",
        "nltk.download('omw-1.4')\n",
        "\n",
        "\n",
        "word = \"running\"\n",
        "word_forms = get_word_forms(word)\n",
        "\n",
        "print(f\"Inflectional forms of '{word}':\")\n",
        "for part_of_speech, forms in word_forms.items():\n",
        "    print(f\"  {part_of_speech}: {', '.join(forms)}\")\n",
        "\n",
        "\n",
        "\n",
        "def lemmatize_word(word):\n",
        "    lemmatizer = WordNetLemmatizer()\n",
        "\n",
        "    lemma = lemmatizer.lemmatize(word, pos='v')\n",
        "    if lemma == word:\n",
        "        lemma = lemmatizer.lemmatize(word, pos='n')\n",
        "    if lemma == word:\n",
        "        lemma = lemmatizer.lemmatize(word, pos='a')\n",
        "    return lemma\n",
        "\n",
        "\n",
        "word_to_lemmatize = \"better\"\n",
        "lemma = lemmatize_word(word_to_lemmatize)\n",
        "print(f\"\\nThe lemma of '{word_to_lemmatize}' is '{lemma}'\")\n",
        "\n",
        "word_to_stem = \"running\"\n",
        "stemmed_word = stem_word(word_to_stem)\n",
        "print(f\"The stemmed form of '{word_to_stem}' is '{stemmed_word}'\")"
      ],
      "metadata": {
        "colab": {
          "base_uri": "https://localhost:8080/"
        },
        "id": "oC-d_0iUgyIh",
        "outputId": "4b80b1ec-9687-4ef3-d0e6-8f13f68fe7a5"
      },
      "execution_count": null,
      "outputs": [
        {
          "output_type": "stream",
          "name": "stdout",
          "text": [
            "Inflectional forms of 'running':\n",
            "  n: runninesses, run, runners, running, runs, runnings, runniness, runner\n",
            "  a: runny, running\n",
            "  v: runs, run, ran, running\n",
            "  r: \n",
            "\n",
            "The lemma of 'better' is 'good'\n",
            "The stemmed form of 'running' is 'run'\n"
          ]
        },
        {
          "output_type": "stream",
          "name": "stderr",
          "text": [
            "[nltk_data] Downloading package wordnet to /root/nltk_data...\n",
            "[nltk_data]   Package wordnet is already up-to-date!\n",
            "[nltk_data] Downloading package omw-1.4 to /root/nltk_data...\n",
            "[nltk_data]   Package omw-1.4 is already up-to-date!\n"
          ]
        }
      ]
    },
    {
      "cell_type": "code",
      "source": [
        "from word_forms.word_forms import get_word_forms\n",
        "get_word_forms('mangle')"
      ],
      "metadata": {
        "colab": {
          "base_uri": "https://localhost:8080/"
        },
        "id": "qCWggF3hY9e-",
        "outputId": "3a563dc2-1070-4ef7-a76e-ad626de94491"
      },
      "execution_count": null,
      "outputs": [
        {
          "output_type": "execute_result",
          "data": {
            "text/plain": [
              "{'n': {'mangle', 'mangler', 'manglers', 'mangles'},\n",
              " 'a': set(),\n",
              " 'v': {'mangle', 'mangled', 'mangles', 'mangling'},\n",
              " 'r': set()}"
            ]
          },
          "metadata": {},
          "execution_count": 39
        }
      ]
    },
    {
      "cell_type": "code",
      "source": [
        "get_word_forms('mangle',0.8)"
      ],
      "metadata": {
        "colab": {
          "base_uri": "https://localhost:8080/"
        },
        "id": "6bNoMvj5Zf5-",
        "outputId": "4d42a59a-a01c-4962-d5f8-001a30c7e862"
      },
      "execution_count": null,
      "outputs": [
        {
          "output_type": "execute_result",
          "data": {
            "text/plain": [
              "{'n': {'mangle', 'mangler', 'manglers', 'mangles'},\n",
              " 'a': set(),\n",
              " 'v': {'mangle', 'mangled', 'mangles', 'mangling'},\n",
              " 'r': set()}"
            ]
          },
          "metadata": {},
          "execution_count": 40
        }
      ]
    }
  ]
}