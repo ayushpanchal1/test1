{
  "nbformat": 4,
  "nbformat_minor": 0,
  "metadata": {
    "colab": {
      "provenance": []
    },
    "kernelspec": {
      "name": "python3",
      "display_name": "Python 3"
    },
    "language_info": {
      "name": "python"
    }
  },
  "cells": [
    {
      "cell_type": "code",
      "source": [
        "import re"
      ],
      "metadata": {
        "id": "va1mXPByMpT3"
      },
      "execution_count": null,
      "outputs": []
    },
    {
      "cell_type": "code",
      "source": [
        "# Simple rule-based POS tagger (fallback for unavailable libraries)\n",
        "def rule_based_pos_tagger(word):\n",
        "    if word.endswith(\"ing\"):\n",
        "        return \"VBG\"  # Verb, gerund\n",
        "    elif word.endswith(\"ed\"):\n",
        "        return \"VBD\"  # Verb, past tense\n",
        "    elif word in {\"is\", \"am\", \"are\", \"was\", \"were\"}:\n",
        "        return \"VB\"  # Verb, to be\n",
        "    elif word.lower() in {\"a\", \"an\", \"the\"}:\n",
        "        return \"DT\"  # Determiner\n",
        "    elif word.istitle():\n",
        "        return \"NNP\"  # Proper noun\n",
        "    else:\n",
        "        return \"NN\"  # Default to noun"
      ],
      "metadata": {
        "id": "kDuCD_8TMrY1"
      },
      "execution_count": null,
      "outputs": []
    },
    {
      "cell_type": "code",
      "source": [
        "# Function to get POS tags using rule-based approach\n",
        "def get_pos_tags(sentence):\n",
        "    words = re.findall(r'\\b\\w+\\b', sentence)\n",
        "    return [(word, rule_based_pos_tagger(word)) for word in words]"
      ],
      "metadata": {
        "id": "2uh34TFLMtJN"
      },
      "execution_count": null,
      "outputs": []
    },
    {
      "cell_type": "code",
      "source": [
        "# Example sentences\n",
        "sentences = [\n",
        "    \"Natural language processing is a fascinating field of AI.\",\n",
        "    \"Machine learning helps in text analysis.\",\n",
        "    \"Everything today is powered by artificial intelligence.\"\n",
        "]"
      ],
      "metadata": {
        "id": "BGTt9v10Mu2n"
      },
      "execution_count": null,
      "outputs": []
    },
    {
      "cell_type": "code",
      "source": [
        "# Display POS tags for multiple sentences\n",
        "for sentence in sentences:\n",
        "    pos_tags = get_pos_tags(sentence)\n",
        "    print(f\"POS Tags for: \\\"{sentence}\\\"\")\n",
        "    for word, tag in pos_tags:\n",
        "        print(f\"{word}: {tag}\")\n",
        "    print()"
      ],
      "metadata": {
        "colab": {
          "base_uri": "https://localhost:8080/"
        },
        "id": "gg0o3wgBMv12",
        "outputId": "c6ed220c-dcdb-44f7-86eb-475b7128fd92"
      },
      "execution_count": null,
      "outputs": [
        {
          "output_type": "stream",
          "name": "stdout",
          "text": [
            "POS Tags for: \"Natural language processing is a fascinating field of AI.\"\n",
            "Natural: NNP\n",
            "language: NN\n",
            "processing: VBG\n",
            "is: VB\n",
            "a: DT\n",
            "fascinating: VBG\n",
            "field: NN\n",
            "of: NN\n",
            "AI: NN\n",
            "\n",
            "POS Tags for: \"Machine learning helps in text analysis.\"\n",
            "Machine: NNP\n",
            "learning: VBG\n",
            "helps: NN\n",
            "in: NN\n",
            "text: NN\n",
            "analysis: NN\n",
            "\n",
            "POS Tags for: \"Everything today is powered by artificial intelligence.\"\n",
            "Everything: VBG\n",
            "today: NN\n",
            "is: VB\n",
            "powered: VBD\n",
            "by: NN\n",
            "artificial: NN\n",
            "intelligence: NN\n",
            "\n"
          ]
        }
      ]
    }
  ]
}