{
  "nbformat": 4,
  "nbformat_minor": 0,
  "metadata": {
    "colab": {
      "provenance": []
    },
    "kernelspec": {
      "name": "python3",
      "display_name": "Python 3"
    },
    "language_info": {
      "name": "python"
    }
  },
  "cells": [
    {
      "cell_type": "code",
      "source": [
        "import nltk\n",
        "from nltk import bigrams\n",
        "from collections import Counter, defaultdict\n",
        "import math"
      ],
      "metadata": {
        "id": "V-kCp17dIJQm"
      },
      "execution_count": null,
      "outputs": []
    },
    {
      "cell_type": "code",
      "source": [
        "# Ensure required NLTK resources are available\n",
        "nltk.download('punkt')\n",
        "nltk.download('punkt_tab')"
      ],
      "metadata": {
        "colab": {
          "base_uri": "https://localhost:8080/"
        },
        "id": "oEoGakteIKQ2",
        "outputId": "ffba60f5-d69f-4aec-8f97-b1c48e8be941"
      },
      "execution_count": null,
      "outputs": [
        {
          "output_type": "stream",
          "name": "stderr",
          "text": [
            "[nltk_data] Downloading package punkt to /root/nltk_data...\n",
            "[nltk_data]   Package punkt is already up-to-date!\n",
            "[nltk_data] Downloading package punkt_tab to /root/nltk_data...\n",
            "[nltk_data]   Package punkt_tab is already up-to-date!\n"
          ]
        },
        {
          "output_type": "execute_result",
          "data": {
            "text/plain": [
              "True"
            ]
          },
          "metadata": {},
          "execution_count": 21
        }
      ]
    },
    {
      "cell_type": "code",
      "source": [
        "# Sample corpus\n",
        "corpus = \"\"\"Hi Hello I believe that Natural language processing can enable computers to understand human language.\n",
        "It involves techniques like tokenization\"\"\""
      ],
      "metadata": {
        "id": "IQxm-y65ILM2"
      },
      "execution_count": null,
      "outputs": []
    },
    {
      "cell_type": "code",
      "source": [
        "# Tokenization\n",
        "tokens = nltk.word_tokenize(corpus.lower())"
      ],
      "metadata": {
        "id": "8NKxclALIL7e"
      },
      "execution_count": null,
      "outputs": []
    },
    {
      "cell_type": "code",
      "source": [
        "# Generate bigrams\n",
        "bigram_list = list(bigrams(tokens))\n"
      ],
      "metadata": {
        "id": "t5Hd_a7jIMu3"
      },
      "execution_count": null,
      "outputs": []
    },
    {
      "cell_type": "code",
      "source": [
        "# Count unigrams and bigrams\n",
        "unigram_counts = Counter(tokens)\n",
        "bigram_counts = Counter(bigram_list)"
      ],
      "metadata": {
        "id": "SN58FMstIO12"
      },
      "execution_count": null,
      "outputs": []
    },
    {
      "cell_type": "code",
      "source": [
        "# Calculate bigram probabilities\n",
        "bigram_probabilities = defaultdict(float)\n",
        "for (w1, w2), count in bigram_counts.items():\n",
        "    bigram_probabilities[(w1, w2)] = count / unigram_counts[w1]  # P(w2 | w1) = Count(w1, w2) / Count(w1)"
      ],
      "metadata": {
        "id": "LyC2tbr4IQIV"
      },
      "execution_count": null,
      "outputs": []
    },
    {
      "cell_type": "code",
      "source": [
        "# Function to calculate probability of a sentence\n",
        "def sentence_probability(sentence):\n",
        "    words = nltk.word_tokenize(sentence.lower())\n",
        "    bigrams_in_sentence = list(bigrams(words))\n",
        "\n",
        "    probability = 1.0\n",
        "    for bigram in bigrams_in_sentence:\n",
        "        prob = bigram_probabilities.get(bigram, 1e-6)  # Assign a small probability if unseen\n",
        "        probability *= prob\n",
        "\n",
        "    return probability"
      ],
      "metadata": {
        "id": "oTHMZsMfIR6H"
      },
      "execution_count": null,
      "outputs": []
    },
    {
      "cell_type": "code",
      "source": [
        "# Example sentence\n",
        "sentence = \"Natural language processing involves machine learning\"\n",
        "probability = sentence_probability(sentence)\n",
        "\n",
        "print(f\"Probability of sentence: {probability}\")"
      ],
      "metadata": {
        "colab": {
          "base_uri": "https://localhost:8080/"
        },
        "id": "xMbgxJOjGo9e",
        "outputId": "8876911c-a93d-4d94-bd3d-58fef42e185f"
      },
      "execution_count": null,
      "outputs": [
        {
          "output_type": "stream",
          "name": "stdout",
          "text": [
            "Probability of sentence: 4.999999999999999e-19\n"
          ]
        }
      ]
    }
  ]
}