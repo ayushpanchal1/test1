{
  "nbformat": 4,
  "nbformat_minor": 0,
  "metadata": {
    "colab": {
      "provenance": []
    },
    "kernelspec": {
      "name": "python3",
      "display_name": "Python 3"
    },
    "language_info": {
      "name": "python"
    }
  },
  "cells": [
    {
      "cell_type": "code",
      "execution_count": null,
      "metadata": {
        "id": "qg1_AON0b8CV"
      },
      "outputs": [],
      "source": [
        "# Add-Delete Table for Morphology Manipulation\n",
        "add_delete_table = {\n",
        "    'plural': {\n",
        "        'add': [\n",
        "            {\"suffix\": \"s\", \"condition\": lambda word: True}  # Always add 's' for plural\n",
        "        ],\n",
        "        'delete': [\n",
        "            {\"suffix\": \"es\", \"condition\": lambda word: word.endswith(\"es\")}  # Remove 'es' if word ends with 'es'\n",
        "        ]\n",
        "    },\n",
        "    'past_tense': {\n",
        "        'add': [\n",
        "            {\"suffix\": \"ed\", \"condition\": lambda word: True}  # Always add 'ed' for past tense\n",
        "        ],\n",
        "        'delete': [\n",
        "            {\"suffix\": \"ed\", \"condition\": lambda word: word.endswith(\"ed\")}  # Remove 'ed' if word ends with 'ed'\n",
        "        ]\n",
        "    },\n",
        "    'third_person_singular': {\n",
        "        'add': [\n",
        "            {\"suffix\": \"s\", \"condition\": lambda word: True}  # Always add 's' for third person singular\n",
        "        ],\n",
        "        'delete': []  # No delete rule for third person singular\n",
        "    }\n",
        "}\n",
        "\n"
      ]
    },
    {
      "cell_type": "code",
      "source": [
        "# Function to apply addition rules\n",
        "def add_morphology(word, rule_type):\n",
        "    \"\"\"\n",
        "    Apply addition rules from the add-delete table to a word.\n",
        "    :param word: The base word\n",
        "    :param rule_type: The rule type (e.g., 'plural', 'past_tense')\n",
        "    :return: Modified word after applying add rules\n",
        "    \"\"\"\n",
        "    rules = add_delete_table.get(rule_type, {}).get('add', [])\n",
        "\n",
        "    for rule in rules:\n",
        "        if rule[\"condition\"](word):  # Check if condition is satisfied\n",
        "            word += rule[\"suffix\"]  # Add the suffix\n",
        "    return word\n",
        "# Testing the Add-Delete Table\n",
        "words = ['cat', 'box', 'jump', 'play']\n",
        "\n",
        "# Add morphology for plural\n",
        "added_plural = [add_morphology(word, 'plural') for word in words]\n",
        "print(\"Plural Form:\", added_plural)\n",
        "\n",
        "\n",
        "\n",
        "\n"
      ],
      "metadata": {
        "colab": {
          "base_uri": "https://localhost:8080/"
        },
        "id": "xCZ5rdLJi-_-",
        "outputId": "33b1cca1-ba82-4907-b279-eb53e173cf94"
      },
      "execution_count": null,
      "outputs": [
        {
          "output_type": "stream",
          "name": "stdout",
          "text": [
            "Plural Form: ['cats', 'boxs', 'jumps', 'plays']\n"
          ]
        }
      ]
    },
    {
      "cell_type": "code",
      "source": [
        "# Function to apply deletion rules\n",
        "def delete_morphology(word, rule_type):\n",
        "    \"\"\"\n",
        "    Apply deletion rules from the add-delete table to a word.\n",
        "    :param word: The base word\n",
        "    :param rule_type: The rule type (e.g., 'plural', 'past_tense')\n",
        "    :return: Modified word after applying delete rules\n",
        "    \"\"\"\n",
        "    rules = add_delete_table.get(rule_type, {}).get('delete', [])\n",
        "\n",
        "    for rule in rules:\n",
        "        if rule[\"condition\"](word):  # Check if condition is satisfied\n",
        "            word = word[:-len(rule[\"suffix\"])]  # Remove the suffix\n",
        "    return word\n",
        "\n",
        "# Testing the Add-Delete Table\n",
        "words = ['cat', 'box', 'jump', 'unhappiness\"']\n",
        "\n",
        "# Add morphology for plural\n",
        "added_plural = [add_morphology(word, 'plural') for word in words]\n",
        "print(\"Plural Form:\", added_plural)\n",
        "\n",
        "# Delete morphology for plural\n",
        "deleted_plural = [delete_morphology(word, 'plural') for word in added_plural]\n",
        "print(\"Singular Form after deleting plural suffix:\", deleted_plural)\n",
        "\n",
        "# Add morphology for past tense\n",
        "added_past = [add_morphology(word, 'past_tense') for word in words]\n",
        "print(\"Past Tense Form:\", added_past)\n",
        "\n",
        "# Delete morphology for past tense\n",
        "deleted_past = [delete_morphology(word, 'past_tense') for word in added_past]\n",
        "print(\"Base Form after deleting past tense suffix:\", deleted_past)"
      ],
      "metadata": {
        "colab": {
          "base_uri": "https://localhost:8080/"
        },
        "id": "AyJvIIsAkvU-",
        "outputId": "f07aa5ab-b632-4ca8-cc09-f885c58b0bec"
      },
      "execution_count": null,
      "outputs": [
        {
          "output_type": "stream",
          "name": "stdout",
          "text": [
            "Plural Form: ['cats', 'boxs', 'jumps', 'unhappiness\"s']\n",
            "Singular Form after deleting plural suffix: ['cats', 'boxs', 'jumps', 'unhappiness\"s']\n",
            "Past Tense Form: ['cated', 'boxed', 'jumped', 'unhappiness\"ed']\n",
            "Base Form after deleting past tense suffix: ['cat', 'box', 'jump', 'unhappiness\"']\n"
          ]
        }
      ]
    },
    {
      "cell_type": "code",
      "source": [
        "from tabulate import tabulate\n",
        "\n",
        "# Define the Morphology class\n",
        "class Morphology:\n",
        "    def __init__(self):\n",
        "        # Define the Add-Delete Table as a list of tuples\n",
        "        self.add_delete_table = [\n",
        "            (\"Base Word\", \"Affix\", \"Action\", \"Resulting Form\"),\n",
        "            (\"talk\", \"ed\", \"Add\", \"talked\"),\n",
        "            (\"run\", \"ned\", \"Add\", \"runned\"),\n",
        "            (\"happy\", \"un\", \"Add\", \"unhappy\"),\n",
        "            (\"cats\", \"s\", \"Delete\", \"cat\"),\n",
        "            (\"talked\", \"ed\", \"Delete\", \"talk\")\n",
        "        ]\n",
        "\n",
        "    def display_table(self):\n",
        "        # Use the tabulate module to display the table neatly\n",
        "        print(tabulate(self.add_delete_table, headers=\"firstrow\", tablefmt=\"grid\"))\n",
        "\n",
        "# Example usage\n",
        "morphology = Morphology()  # Create an instance of the Morphology class\n",
        "morphology.display_table()  # Display the Add-Delete Table\n"
      ],
      "metadata": {
        "colab": {
          "base_uri": "https://localhost:8080/"
        },
        "id": "Gtevl95imLuu",
        "outputId": "69e4e15b-0832-482c-a36c-3236f481fd6d"
      },
      "execution_count": null,
      "outputs": [
        {
          "output_type": "stream",
          "name": "stdout",
          "text": [
            "+-------------+---------+----------+------------------+\n",
            "| Base Word   | Affix   | Action   | Resulting Form   |\n",
            "+=============+=========+==========+==================+\n",
            "| talk        | ed      | Add      | talked           |\n",
            "+-------------+---------+----------+------------------+\n",
            "| run         | ned     | Add      | runned           |\n",
            "+-------------+---------+----------+------------------+\n",
            "| happy       | un      | Add      | unhappy          |\n",
            "+-------------+---------+----------+------------------+\n",
            "| cats        | s       | Delete   | cat              |\n",
            "+-------------+---------+----------+------------------+\n",
            "| talked      | ed      | Delete   | talk             |\n",
            "+-------------+---------+----------+------------------+\n"
          ]
        }
      ]
    },
    {
      "cell_type": "code",
      "source": [
        "from tabulate import tabulate\n",
        "\n",
        "# Define irregular verbs mapping\n",
        "irregular_verbs = {\n",
        "    \"run\": \"ran\",\n",
        "    \"go\": \"went\",\n",
        "    \"eat\": \"ate\",\n",
        "    \"swim\": \"swam\",\n",
        "    \"come\": \"came\"\n",
        "}\n",
        "\n",
        "# Define morphology rules\n",
        "add_delete_table = {\n",
        "    \"plural\": {\n",
        "        \"add\": [{\"suffix\": \"s\", \"condition\": lambda word: not word.endswith(\"s\")}],\n",
        "        \"delete\": [{\"suffix\": \"s\", \"condition\": lambda word: word.endswith(\"s\")}],\n",
        "    },\n",
        "    \"past_tense\": {\n",
        "        \"add\": [\n",
        "            {\"suffix\": \"ed\", \"condition\": lambda word: word not in irregular_verbs}\n",
        "        ],\n",
        "        \"delete\": [\n",
        "            {\"suffix\": \"ed\", \"condition\": lambda word: word.endswith(\"ed\")}\n",
        "        ],\n",
        "    },\n",
        "}\n",
        "\n",
        "# Function to apply addition rules\n",
        "def add_morphology(word, rule_type):\n",
        "    \"\"\"\n",
        "    Apply addition rules from the add-delete table to a word.\n",
        "    :param word: The base word\n",
        "    :param rule_type: The rule type (e.g., 'plural', 'past_tense')\n",
        "    :return: Modified word after applying add rules\n",
        "    \"\"\"\n",
        "    if rule_type == \"past_tense\" and word in irregular_verbs:\n",
        "        return irregular_verbs[word]  # Handle irregular verbs separately\n",
        "\n",
        "    rules = add_delete_table.get(rule_type, {}).get(\"add\", [])\n",
        "    for rule in rules:\n",
        "        if rule[\"condition\"](word):  # Check if condition is satisfied\n",
        "            return word + rule[\"suffix\"]  # Append the suffix\n",
        "    return word\n",
        "\n",
        "# Function to apply deletion rules\n",
        "def delete_morphology(word, rule_type):\n",
        "    \"\"\"\n",
        "    Apply deletion rules from the add-delete table to a word.\n",
        "    :param word: The base word\n",
        "    :param rule_type: The rule type (e.g., 'plural', 'past_tense')\n",
        "    :return: Modified word after applying delete rules\n",
        "    \"\"\"\n",
        "    # Handle irregular past tense conversion back to base form\n",
        "    if rule_type == \"past_tense\":\n",
        "        for base, past in irregular_verbs.items():\n",
        "            if word == past:\n",
        "                return base  # Convert irregular verb back to base form\n",
        "\n",
        "    rules = add_delete_table.get(rule_type, {}).get(\"delete\", [])\n",
        "    for rule in rules:\n",
        "        if rule[\"condition\"](word):  # Check if condition is satisfied\n",
        "            return word[:-len(rule[\"suffix\"])]  # Remove the suffix\n",
        "    return word\n",
        "\n",
        "# Class to display the Add-Delete Table\n",
        "class Morphology:\n",
        "    def __init__(self):\n",
        "        # Define the Add-Delete Table dynamically\n",
        "        self.add_delete_table = [\n",
        "            (\"Base Word\", \"Affix\", \"Action\", \"Resulting Form\"),\n",
        "            (\"talk\", \"ed\", \"Add\", add_morphology(\"talk\", \"past_tense\")),\n",
        "            (\"run\", \"ed\", \"Add\", add_morphology(\"run\", \"past_tense\")),  # Now correctly outputs \"ran\"\n",
        "            (\"happy\", \"un\", \"Add\", \"unhappy\"),\n",
        "            (\"cats\", \"s\", \"Delete\", \"cat\"),\n",
        "            (\"talked\", \"ed\", \"Delete\", \"talk\")\n",
        "        ]\n",
        "\n",
        "    def display_table(self):\n",
        "        # Use the tabulate module to display the table neatly\n",
        "        print(tabulate(self.add_delete_table, headers=\"firstrow\", tablefmt=\"grid\"))\n",
        "\n",
        "# Testing the Add-Delete Table\n",
        "words = [\"walk\", \"jump\", \"pack\", \"run\"]\n",
        "\n",
        "# Add morphology for plural\n",
        "added_plural = [add_morphology(word, \"plural\") for word in words]\n",
        "print(\"Plural Form:\", added_plural)\n",
        "\n",
        "# Delete morphology for plural\n",
        "deleted_plural = [delete_morphology(word, \"plural\") for word in added_plural]\n",
        "print(\"Singular Form after deleting plural suffix:\", deleted_plural)\n",
        "\n",
        "# Add morphology for past tense\n",
        "added_past = [add_morphology(word, \"past_tense\") for word in words]\n",
        "print(\"Past Tense Form:\", added_past)\n",
        "\n",
        "# Delete morphology for past tense\n",
        "deleted_past = [delete_morphology(word, \"past_tense\") for word in added_past]\n",
        "print(\"Base Form after deleting past tense suffix:\", deleted_past)\n",
        "\n",
        "# Display the Morphology Table\n",
        "morphology = Morphology()\n",
        "morphology.display_table()"
      ],
      "metadata": {
        "colab": {
          "base_uri": "https://localhost:8080/"
        },
        "id": "slIAYPLWz-10",
        "outputId": "bf036275-9a3e-44a6-db94-e09f6d5e8066"
      },
      "execution_count": null,
      "outputs": [
        {
          "output_type": "stream",
          "name": "stdout",
          "text": [
            "Plural Form: ['walks', 'jumps', 'packs', 'runs']\n",
            "Singular Form after deleting plural suffix: ['walk', 'jump', 'pack', 'run']\n",
            "Past Tense Form: ['walked', 'jumped', 'packed', 'ran']\n",
            "Base Form after deleting past tense suffix: ['walk', 'jump', 'pack', 'run']\n",
            "+-------------+---------+----------+------------------+\n",
            "| Base Word   | Affix   | Action   | Resulting Form   |\n",
            "+=============+=========+==========+==================+\n",
            "| talk        | ed      | Add      | talked           |\n",
            "+-------------+---------+----------+------------------+\n",
            "| run         | ed      | Add      | ran              |\n",
            "+-------------+---------+----------+------------------+\n",
            "| happy       | un      | Add      | unhappy          |\n",
            "+-------------+---------+----------+------------------+\n",
            "| cats        | s       | Delete   | cat              |\n",
            "+-------------+---------+----------+------------------+\n",
            "| talked      | ed      | Delete   | talk             |\n",
            "+-------------+---------+----------+------------------+\n"
          ]
        }
      ]
    },
    {
      "cell_type": "code",
      "source": [],
      "metadata": {
        "id": "oD3upbl4m94s"
      },
      "execution_count": null,
      "outputs": []
    }
  ]
}